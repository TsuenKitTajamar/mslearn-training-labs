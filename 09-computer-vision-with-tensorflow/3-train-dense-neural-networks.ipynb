{
  "cells": [
    {
      "cell_type": "markdown",
      "metadata": {},
      "source": [
        "# Training a dense neural network\n",
        "\n",
        "The handwritten digit recognition is a classification problem. We will start with the simplest possible approach for image classification - a fully-connected neural network (which is also called a *perceptron*). First, let's start with quickly loading and normalizing the dataset, as we have done in the previous unit:"
      ]
    },
    {
      "cell_type": "code",
      "execution_count": 1,
      "metadata": {
        "collapsed": true,
        "jupyter": {
          "outputs_hidden": false,
          "source_hidden": false
        },
        "nteract": {
          "transient": {
            "deleting": false
          }
        }
      },
      "outputs": [
        {
          "name": "stderr",
          "output_type": "stream",
          "text": [
            "2025-04-03 00:04:19.114962: I tensorflow/core/platform/cpu_feature_guard.cc:193] This TensorFlow binary is optimized with oneAPI Deep Neural Network Library (oneDNN) to use the following CPU instructions in performance-critical operations:  AVX2 AVX512F FMA\n",
            "To enable them in other operations, rebuild TensorFlow with the appropriate compiler flags.\n",
            "2025-04-03 00:04:29.841600: E tensorflow/stream_executor/cuda/cuda_blas.cc:2981] Unable to register cuBLAS factory: Attempting to register factory for plugin cuBLAS when one has already been registered\n",
            "2025-04-03 00:04:49.337809: W tensorflow/stream_executor/platform/default/dso_loader.cc:64] Could not load dynamic library 'libnvinfer.so.7'; dlerror: libnvinfer.so.7: cannot open shared object file: No such file or directory\n",
            "2025-04-03 00:04:49.338108: W tensorflow/stream_executor/platform/default/dso_loader.cc:64] Could not load dynamic library 'libnvinfer_plugin.so.7'; dlerror: libnvinfer_plugin.so.7: cannot open shared object file: No such file or directory\n",
            "2025-04-03 00:04:49.338128: W tensorflow/compiler/tf2tensorrt/utils/py_utils.cc:38] TF-TRT Warning: Cannot dlopen some TensorRT libraries. If you would like to use Nvidia GPU with TensorRT, please make sure the missing libraries mentioned above are installed properly.\n",
            "/anaconda/envs/py38_default/lib/python3.8/site-packages/scipy/__init__.py:146: UserWarning: A NumPy version >=1.16.5 and <1.23.0 is required for this version of SciPy (detected version 1.23.3\n",
            "  warnings.warn(f\"A NumPy version >={np_minversion} and <{np_maxversion}\"\n",
            "2025-04-03 00:06:58.373691: E tensorflow/stream_executor/cuda/cuda_driver.cc:265] failed call to cuInit: CUDA_ERROR_NO_DEVICE: no CUDA-capable device is detected\n",
            "2025-04-03 00:06:58.373763: I tensorflow/stream_executor/cuda/cuda_diagnostics.cc:156] kernel driver does not appear to be running on this host (vm15855175f4): /proc/driver/nvidia/version does not exist\n"
          ]
        }
      ],
      "source": [
        "import tensorflow as tf\n",
        "from tensorflow import keras\n",
        "import matplotlib.pyplot as plt\n",
        "import numpy as np\n",
        "\n",
        "# In this tutorial, we will be training a lot of models. In order to use GPU memory cautiously,\n",
        "# we will set tensorflow option to grow GPU memory allocation when required.\n",
        "physical_devices = tf.config.list_physical_devices('GPU') \n",
        "if len(physical_devices)>0:\n",
        "    tf.config.experimental.set_memory_growth(physical_devices[0], True)\n"
      ]
    },
    {
      "cell_type": "code",
      "execution_count": 2,
      "metadata": {},
      "outputs": [],
      "source": [
        "# Pre-fetch the data when running in sandbox environment\n",
        "!mkdir -p ~/.keras/datasets\n",
        "!wget -P ~/.keras/datasets -q https://github.com/MicrosoftDocs/tensorflowfundamentals/raw/main/data/mnist.npz"
      ]
    },
    {
      "cell_type": "code",
      "execution_count": 3,
      "metadata": {},
      "outputs": [],
      "source": [
        "(x_train,y_train),(x_test,y_test) = keras.datasets.mnist.load_data() \n",
        "x_train = x_train.astype(np.float32) / 255.0\n",
        "x_test = x_test.astype(np.float32) / 255.0"
      ]
    },
    {
      "cell_type": "markdown",
      "metadata": {},
      "source": [
        "## Fully-connected dense neural networks\n",
        "\n",
        "A basic **neural network** consists of a number of **layers**. The simplest network would include just one fully-connected layer, which is called **Dense** layer, with 784 inputs (one input for each pixel of the input image) and 10 outputs (one output for each class). It is called dense because it contains all possible connections between 784 inputs and 10 outputs, 7840 total connections.\n",
        "\n",
        "![Dense Neural Network Structure](notebooks/images/dense-one-layer-network.png)\n",
        "\n",
        "As we discussed above, the dimension of our digit images is $28\\times28$. Because the input dimension of a fully-connected layer is 784, we need to insert another layer into the network, called **Flatten**, to change tensor shape from $28\\times28$ to $784$.\n",
        "\n",
        "We want $n$-th output of the network to return the probability of the input digit being equal to $n$. Because the output of a fully-connected layer is not normalized to be between 0 and 1, it cannot be thought of as probability. To turn it into a probability we need to apply another layer called **Softmax**.\n",
        "\n",
        "The architecture of our network can be represented by the following sequence of layers:\n",
        "\n",
        "![An image showing the architecture of the network broken into a sequence of layers.](notebooks/images/one-layer-network-layers.png)\n",
        "\n",
        "It can be defined in Keras in the following way, using `Sequential` syntax:\n"
      ]
    },
    {
      "cell_type": "code",
      "execution_count": 4,
      "metadata": {
        "collapsed": true,
        "jupyter": {
          "outputs_hidden": false,
          "source_hidden": false
        },
        "nteract": {
          "transient": {
            "deleting": false
          }
        }
      },
      "outputs": [
        {
          "name": "stderr",
          "output_type": "stream",
          "text": [
            "2025-04-03 00:07:06.603830: I tensorflow/core/platform/cpu_feature_guard.cc:193] This TensorFlow binary is optimized with oneAPI Deep Neural Network Library (oneDNN) to use the following CPU instructions in performance-critical operations:  AVX2 AVX512F FMA\n",
            "To enable them in other operations, rebuild TensorFlow with the appropriate compiler flags.\n"
          ]
        },
        {
          "name": "stdout",
          "output_type": "stream",
          "text": [
            "Model: \"sequential\"\n",
            "_________________________________________________________________\n",
            " Layer (type)                Output Shape              Param #   \n",
            "=================================================================\n",
            " flatten (Flatten)           (None, 784)               0         \n",
            "                                                                 \n",
            " dense (Dense)               (None, 10)                7850      \n",
            "                                                                 \n",
            "=================================================================\n",
            "Total params: 7,850\n",
            "Trainable params: 7,850\n",
            "Non-trainable params: 0\n",
            "_________________________________________________________________\n"
          ]
        }
      ],
      "source": [
        "model = keras.models.Sequential([\n",
        "        keras.layers.Flatten(input_shape=(28,28)), \n",
        "        keras.layers.Dense(10,activation='softmax')])\n",
        "model.summary()"
      ]
    },
    {
      "cell_type": "markdown",
      "metadata": {},
      "source": [
        "Once you have defined a network, you can call the `summary` method to display its architecture and other useful information, such as number of parameters in each layer.\n",
        "\n",
        "When defining a network, it is important to remember to specify the dimension of the input tensor with the `input_shape` parameter. If you do not do that, Keras is unable to understand how many neurons are required to construct each layer. If `input_shape` is not provided you can still train the network but the summary will be incomplete.\n",
        "\n",
        "## Anatomy of a Dense Layer\n",
        "\n",
        "I have mentioned above that a dense layer contains 7840 weighted connections, however, in the `summary` above we see that our dense layer has 7850 parameters. Let's take some time to understand why.\n",
        "\n",
        "The network input contains 784 pixels, which can be represented by a vector $x$ with 784 numbers. To get an output $z$ of dimension 10 we can multiply it by a matrix $W$ with dimensions $10\\times784$: $z=W\\times x$.\n",
        "\n",
        "However, such multiplication defines a linear transformation without shift. Imagine we had only one input value, then the matrix would have just one weight, and the equation $W\\times x$ would represent a straight line which goes through the point $(0,0)$. This would not be able to perform arbitrary classifications, because in some cases we also want some **shift** to happen. That means that we need a full equation for a straight line: $z=W\\times x + b$, where $b$ is the **bias**.\n",
        "\n",
        "Similarly, in a dense layer with 784 inputs and 10 outputs, the output would be calculated as $W\\times x + b$, where the dimension of **weight** matrix $W$ is $784\\times 10$, and the dimension of a **bias** vector $b$ is 10. This gives us $784\\times 10 + 10 = 7850$ parameters. \n",
        "\n",
        "In Keras, we can get the weight matrix and bias from the `layers` property. Our dense layer is a second layer from the top, thus it can be access using `model.layers[1]`.\n"
      ]
    },
    {
      "cell_type": "code",
      "execution_count": 5,
      "metadata": {
        "collapsed": true,
        "jupyter": {
          "outputs_hidden": false,
          "source_hidden": false
        },
        "nteract": {
          "transient": {
            "deleting": false
          }
        }
      },
      "outputs": [
        {
          "data": {
            "text/plain": [
              "[<tf.Variable 'dense/kernel:0' shape=(784, 10) dtype=float32, numpy=\n",
              " array([[-0.04783655, -0.02566657,  0.01141325, ...,  0.06760863,\n",
              "          0.039667  ,  0.00780471],\n",
              "        [-0.05543523, -0.03021771, -0.04317246, ..., -0.04369099,\n",
              "          0.08093096, -0.02236124],\n",
              "        [-0.00244843,  0.01946889,  0.00514994, ...,  0.02478335,\n",
              "          0.01434737, -0.06969436],\n",
              "        ...,\n",
              "        [-0.07490031, -0.03712695,  0.08466446, ...,  0.03264674,\n",
              "         -0.07305516, -0.05997284],\n",
              "        [ 0.07773609,  0.07836179,  0.01829187, ...,  0.07223675,\n",
              "         -0.06329348,  0.00081711],\n",
              "        [ 0.04847226, -0.05580661, -0.02586273, ..., -0.00465468,\n",
              "         -0.06850203, -0.07097764]], dtype=float32)>,\n",
              " <tf.Variable 'dense/bias:0' shape=(10,) dtype=float32, numpy=array([0., 0., 0., 0., 0., 0., 0., 0., 0., 0.], dtype=float32)>]"
            ]
          },
          "execution_count": 5,
          "metadata": {},
          "output_type": "execute_result"
        }
      ],
      "source": [
        "model.layers[1].weights"
      ]
    },
    {
      "cell_type": "markdown",
      "metadata": {},
      "source": [
        "As you can see, `weights` property of a layer returns a list of all weights, in our case it is the actual weight matrix called **kernel**, and a **bias**."
      ]
    },
    {
      "cell_type": "markdown",
      "metadata": {},
      "source": [
        "## Training the network\n",
        "\n",
        "A network defined this way can take any digit as input and produce a vector of probabilities as an output. Let's see how this network performs by giving it a digit from our dataset:"
      ]
    },
    {
      "cell_type": "code",
      "execution_count": 6,
      "metadata": {},
      "outputs": [
        {
          "name": "stdout",
          "output_type": "stream",
          "text": [
            "Digit to be predicted:  5\n"
          ]
        },
        {
          "data": {
            "text/plain": [
              "<tf.Tensor: shape=(1, 10), dtype=float32, numpy=\n",
              "array([[0.16815655, 0.03891395, 0.13637   , 0.13801967, 0.09433897,\n",
              "        0.04327504, 0.07078423, 0.06078225, 0.10719115, 0.14216809]],\n",
              "      dtype=float32)>"
            ]
          },
          "execution_count": 6,
          "metadata": {},
          "output_type": "execute_result"
        }
      ],
      "source": [
        "print('Digit to be predicted: ',y_train[0])\n",
        "model(np.expand_dims(x_train[0],0))"
      ]
    },
    {
      "cell_type": "markdown",
      "metadata": {},
      "source": [
        "The output of the network is the **tensor**, represented by the `ft.Tensor` object. The tensor type is very similar to a numpy array, however TensorFlow can operate on tensors very efficiently, shifting computations to GPU for better performance.\n",
        "\n",
        "> **Note**: In fact, low-level TensorFlow API contains all basic tensor operations, similar to corresponding numpy operations on arrays. For example, you can use `tf.exp` on tensors, and it would be equivalent to calling `np.exp` on numpy arrays.\n",
        "\n",
        "As you can see the network predicts similar probabilities for each digit. This is because it has not been trained on how to recognize the digits yet. We need to give it our training data to train it on our dataset.\n",
        "\n",
        "To train the model we first need to **compile** it:"
      ]
    },
    {
      "cell_type": "code",
      "execution_count": 7,
      "metadata": {},
      "outputs": [],
      "source": [
        "model.compile(optimizer='sgd',loss='categorical_crossentropy')"
      ]
    },
    {
      "cell_type": "markdown",
      "metadata": {},
      "source": [
        "When building a model, we specify two important things:\n",
        "* An **optimizer** that will be used to minimize the error. The simplest optimizer is **stochastic gradient descent**, or SGD; but with more complex networks other optimizers are often used, such as **Adam**\n",
        "* A **loss function** will be used on the output of the network to obtain the error, which we will then minimize. For this model we will use **categorical cross-entropy** as the loss function.\n",
        "\n",
        "To train the network, we need to provide an output for each training sample. We have **multi-class classification** problem since the network outputs probabilities for each digit from 0 to 9 (digits). \n",
        "\n",
        "We need the expected outputs to have the same layout, i.e. be a 10-number vector that contains 1 in only one position. This is called **one-hot encoding**. For example, digit 5 will be one-hot-encoded by a vector (0 0 0 0 0 1 0 0 0 0).\n",
        "\n",
        "We can easily one-hot-encode training labels using Keras API:"
      ]
    },
    {
      "cell_type": "code",
      "execution_count": 8,
      "metadata": {},
      "outputs": [
        {
          "name": "stdout",
          "output_type": "stream",
          "text": [
            "First 3 training labels: [5 0 4]\n",
            "One-hot-encoded version:\n",
            " [[0. 0. 0. 0. 0. 1. 0. 0. 0. 0.]\n",
            " [1. 0. 0. 0. 0. 0. 0. 0. 0. 0.]\n",
            " [0. 0. 0. 0. 1. 0. 0. 0. 0. 0.]]\n"
          ]
        }
      ],
      "source": [
        "y_train_onehot = keras.utils.to_categorical(y_train)\n",
        "y_test_onehot = keras.utils.to_categorical(y_test)\n",
        "print(\"First 3 training labels:\",y_train[:3])\n",
        "print(\"One-hot-encoded version:\\n\",y_train_onehot[:3])"
      ]
    },
    {
      "cell_type": "markdown",
      "metadata": {},
      "source": [
        "Now, to do the actual training, we call the `fit` function:"
      ]
    },
    {
      "cell_type": "code",
      "execution_count": 9,
      "metadata": {},
      "outputs": [
        {
          "name": "stderr",
          "output_type": "stream",
          "text": [
            "2025-04-03 00:07:09.404323: W tensorflow/core/framework/cpu_allocator_impl.cc:82] Allocation of 188160000 exceeds 10% of free system memory.\n"
          ]
        },
        {
          "name": "stdout",
          "output_type": "stream",
          "text": [
            "1875/1875 [==============================] - 10s 4ms/step - loss: 0.7783\b\b\b\b\b\b\b\b\b\b\b\b\b\b\b\b\b\b\b\b\b\b\b\b\b\b\b\b\b\b\b\b\b\b\b\b\b\b\b\b\b\b\b\b\b\b\b\b\b\b\b\b\b\b\b\b\b\b\b\b\b\b\b\b\b\b\b\b\b\b\b\b\n"
          ]
        },
        {
          "data": {
            "text/plain": [
              "<keras.callbacks.History at 0x7f567dfa5c10>"
            ]
          },
          "execution_count": 9,
          "metadata": {},
          "output_type": "execute_result"
        }
      ],
      "source": [
        "model.fit(x_train,y_train_onehot)"
      ]
    },
    {
      "cell_type": "markdown",
      "metadata": {},
      "source": [
        "## Monitoring training\n",
        "\n",
        "This training only loops through the dataset once, which is called one **epoch**. Normally we want training to go on for several epochs, and we can specify the number of epochs we want using a parameter.\n",
        "\n",
        "Also, it is useful to evaluate the quality of the model on test and/or a validation datasets. It's important to test the model with unseen data because this will help indicate how well the model **generalizes** to other data beyond our dataset. To evaluate the error in between epochs, we can pass in validation data:"
      ]
    },
    {
      "cell_type": "code",
      "execution_count": 10,
      "metadata": {},
      "outputs": [
        {
          "name": "stdout",
          "output_type": "stream",
          "text": [
            "1875/1875 [==============================] - 9s 5ms/step - loss: 0.4558 - val_loss: 0.3986\b\b\b\b\b\b\b\b\b\b\b\b\b\b\b\b\b\b\b\b\b\b\b\b\b\b\b\b\b\b\b\b\b\b\b\b\b\b\b\b\b\b\b\b\b\b\n",
            "Epoch 2/3\n",
            "1875/1875 [==============================] - 8s 4ms/step - loss: 0.4027 - val_loss: 0.3666\b\b\b\b\b\b\b\b\b\b\b\b\b\b\b\b\b\b\b\b\b\b\b\b\b\b\b\b\b\b\b\b\b\b\b\b\b\b\b\b\b\b\b\b\b\b\n",
            "Epoch 3/3\n",
            "1875/1875 [==============================] - 9s 5ms/step - loss: 0.3762 - val_loss: 0.3474\b\b\b\b\b\b\b\b\b\b\b\b\b\b\b\b\b\b\b\b\b\b\b\b\b\b\b\b\b\b\b\b\b\b\b\b\b\b\b\b\b\b\b\b\b\b\n"
          ]
        },
        {
          "name": "stderr",
          "output_type": "stream",
          "text": [
            "2025-04-03 00:07:31.683020: W tensorflow/core/framework/cpu_allocator_impl.cc:82] Allocation of 31360000 exceeds 10% of free system memory.\n"
          ]
        }
      ],
      "source": [
        "hist = model.fit(x_train,y_train_onehot,validation_data=(x_test,y_test_onehot), epochs=3)"
      ]
    },
    {
      "cell_type": "markdown",
      "metadata": {},
      "source": [
        "The `fit` function returns the **history** object that contains the loss data for each training epoch. It can be used to visualize the loss on the graph:"
      ]
    },
    {
      "cell_type": "code",
      "execution_count": 11,
      "metadata": {},
      "outputs": [
        {
          "data": {
            "image/png": "[encoded data removed]",
            "text/plain": [
              "<Figure size 640x480 with 1 Axes>"
            ]
          },
          "metadata": {},
          "output_type": "display_data"
        }
      ],
      "source": [
        "for x in ['loss','val_loss']:\n",
        "    plt.plot(hist.history[x])"
      ]
    },
    {
      "cell_type": "markdown",
      "metadata": {},
      "source": [
        "## Metrics and Minibatches\n",
        "\n",
        "The value of the loss function does not tell us a lot about the accuracy of the model. To measure accuracy, we would want to see the percentage of correctly classified digits from the test dataset. In fact, we can add accuracy as a **metric** during dataset compilation, and it would be displayed and reported all the way through the training:"
      ]
    },
    {
      "cell_type": "code",
      "execution_count": 12,
      "metadata": {},
      "outputs": [
        {
          "name": "stdout",
          "output_type": "stream",
          "text": [
            "Epoch 1/3\n",
            "469/469 [==============================] - 5s 9ms/step - loss: 0.3637 - acc: 0.9002 - val_loss: 0.3433 - val_acc: 0.9077\b\b\b\b\b\b\b\b\b\b\b\b\b\b\b\b\b\b\b\b\b\b\b\b\b\b\b\b\b\b\b\b\b\b\b\b\b\b\b\b\b\b\n",
            "Epoch 2/3\n",
            "469/469 [==============================] - 3s 7ms/step - loss: 0.3599 - acc: 0.9010 - val_loss: 0.3403 - val_acc: 0.9081\b\b\b\b\b\b\b\b\b\b\b\b\b\b\b\b\b\b\b\b\b\b\b\b\b\b\b\b\b\b\b\b\b\b\b\b\b\b\n",
            "Epoch 3/3\n",
            "469/469 [==============================] - 3s 6ms/step - loss: 0.3565 - acc: 0.9020 - val_loss: 0.3373 - val_acc: 0.9093\b\b\b\b\b\b\b\b\b\b\b\b\b\b\b\b\b\b\b\b\b\b\b\b\b\b\b\b\b\b\b\b\b\b\b\b\b\b\b\b\n"
          ]
        },
        {
          "name": "stderr",
          "output_type": "stream",
          "text": [
            "2025-04-03 00:08:10.680351: W tensorflow/core/framework/cpu_allocator_impl.cc:82] Allocation of 31360000 exceeds 10% of free system memory.\n"
          ]
        }
      ],
      "source": [
        "model.compile(optimizer='sgd',loss='categorical_crossentropy',metrics=['acc'])\n",
        "hist = model.fit(x_train,y_train_onehot,validation_data=(x_test,y_test_onehot), epochs=3,batch_size=128)"
      ]
    },
    {
      "cell_type": "markdown",
      "metadata": {},
      "source": [
        "In addition to using new accuracy metrics, we have specified `batch_size` parameter to define the number of samples that are being processed by the neural network at once. Since GPU computations are easily parallelizable, it is much more efficient to process several samples in one go. Larger minibatch size significantly speeds up learning process, but also makes it a little bit less precise. This is due to the fact that the direction of optimization is selected for the whole minibatch, and not for each individual sample. Thus, choosing minibatch size is quite tricky, and it remains one of the hyperparameters that can be further optimized to achieve better performance. \n",
        "\n",
        "## Specifying Optimizer Parameters\n",
        "\n",
        "In the previous call to `compile`, we have been specifying optimizer, loss and metrics using keyword abbreviations, such as `sgd`. However, sometimes we might want to do some fine-tuning to optimizer parameters, or use custom loss function. In such cases, it is possible to pass objects instead of string abbreviations.\n",
        "\n",
        "Let's use a variation of stochastic gradient descent, which is called **momentum SGD**. The idea is that the gradients of loss function will be averaged over the last few steps in order to keep the momentum, and make optimization more smooth. To turn our gradient descent into momentum SGD, we need to create `SDG` optimizer object explicitly, provide `momentum` parameter, and pass this object to `compile` method.\n"
      ]
    },
    {
      "cell_type": "code",
      "execution_count": 13,
      "metadata": {},
      "outputs": [
        {
          "name": "stdout",
          "output_type": "stream",
          "text": [
            "Epoch 1/5\n",
            "938/938 [==============================] - 7s 6ms/step - loss: 0.7833 - acc: 0.8140 - val_loss: 0.4823 - val_acc: 0.8779\b\b\b\b\b\b\b\b\b\b\b\b\b\b\b\b\b\b\b\b\b\b\b\b\b\b\b\b\b\b\b\b\b\b\b\b\b\b\b\b\b\b\b\b\n",
            "Epoch 2/5\n",
            "938/938 [==============================] - 6s 6ms/step - loss: 0.4584 - acc: 0.8799 - val_loss: 0.4007 - val_acc: 0.8940\b\b\b\b\b\b\b\b\b\b\b\b\b\b\b\b\b\b\b\b\b\b\b\b\b\b\b\b\b\b\b\b\b\b\b\b\b\b\b\b\n",
            "Epoch 3/5\n",
            "938/938 [==============================] - 5s 5ms/step - loss: 0.4050 - acc: 0.8903 - val_loss: 0.3676 - val_acc: 0.9003\b\b\b\b\b\b\b\b\b\b\b\b\b\b\b\b\b\b\b\b\b\b\b\b\b\b\b\b\b\b\b\b\b\b\b\b\b\b\n",
            "Epoch 4/5\n",
            "938/938 [==============================] - 5s 6ms/step - loss: 0.3782 - acc: 0.8966 - val_loss: 0.3487 - val_acc: 0.9039\b\b\b\b\b\b\b\b\b\b\b\b\b\b\b\b\b\b\b\b\b\b\b\b\b\b\b\b\b\b\b\b\b\b\b\b\b\b\b\b\n",
            "Epoch 5/5\n",
            "938/938 [==============================] - 5s 5ms/step - loss: 0.3613 - acc: 0.9002 - val_loss: 0.3366 - val_acc: 0.9079\b\b\b\b\b\b\b\b\b\b\b\b\b\b\b\b\b\b\b\b\b\b\b\b\b\b\b\b\b\b\b\b\b\b\b\b\b\b\b\b\n"
          ]
        }
      ],
      "source": [
        "model = keras.models.Sequential([\n",
        "        keras.layers.Flatten(input_shape=(28,28)), \n",
        "        keras.layers.Dense(10,activation='softmax')])\n",
        "model.compile(optimizer=keras.optimizers.SGD(momentum=0.5),loss='categorical_crossentropy',metrics=['acc'])\n",
        "hist = model.fit(x_train,y_train_onehot,validation_data=(x_test,y_test_onehot), epochs=5, batch_size=64)  "
      ]
    },
    {
      "cell_type": "code",
      "execution_count": 14,
      "metadata": {},
      "outputs": [
        {
          "data": {
            "image/png": "[encoded data removed]",
            "text/plain": [
              "<Figure size 640x480 with 1 Axes>"
            ]
          },
          "metadata": {},
          "output_type": "display_data"
        }
      ],
      "source": [
        "for x in ['acc','val_acc']:\n",
        "    plt.plot(hist.history[x])"
      ]
    },
    {
      "cell_type": "markdown",
      "metadata": {},
      "source": [
        "## Visualizing network weights\n",
        "\n",
        "Now let's visualize the weights of our neural network and see what they look like. When the network is more complex than just one layer, making sense of the weight data is more difficult. However, in this example of classifying a digit in a one-layered perceptron happens by multiplying the initial image by a weight matrix, which allows us to visualize the network weights and see if they make any sense.\n",
        "\n",
        "Let's create a `weight_tensor` which will have a dimension of 784x10. This tensor can be obtained by calling the `net.parameters()` method. In this example, if we want to see if our number is 0 or not, we will multiply input digit by `weight_tensor[0]` and pass the result through a softmax normalization to get the answer. This results in the weight tensor elements somewhat resembling the average shape of the digit it classifies:"
      ]
    },
    {
      "cell_type": "code",
      "execution_count": 15,
      "metadata": {},
      "outputs": [
        {
          "data": {
            "image/png": "[encoded data removed]",
            "text/plain": [
              "<Figure size 1500x400 with 10 Axes>"
            ]
          },
          "metadata": {},
          "output_type": "display_data"
        }
      ],
      "source": [
        "weight_tensor = model.layers[1].weights[0].numpy().reshape(28,28,10)\n",
        "fig,ax = plt.subplots(1,10,figsize=(15,4))\n",
        "for i in range(10):\n",
        "    ax[i].imshow(weight_tensor[:,:,i])\n",
        "    ax[i].axis('off')"
      ]
    },
    {
      "cell_type": "markdown",
      "metadata": {},
      "source": [
        "## Takeaway \n",
        "\n",
        "Training a neural network in Keras requires just one line of code and tweaking a few parameters. We can see that a single-layer dense neural network shows relatively good performance, but we definitely want to get higher than 91% on accuracy! In the next unit, we will try to use multi-level perceptrons."
      ]
    },
    {
      "cell_type": "markdown",
      "metadata": {},
      "source": [
        "# Comprobación de conocimientos\n",
        "\n",
        "1. **Al entrenar la tarea de clasificación de imágenes en imágenes con forma 32x32x3, ¿qué forma es la entrada a la capa neuronal Dense?**\n",
        "\n",
        "- 32x32x3\n",
        "\n",
        "- 1024\n",
        "\n",
        "- 3072 ✅\n",
        "Correcto, el tensor de entrada simplemente se aplana en un vector.\n",
        "\n",
        "\n",
        "2. **Nuestro conjunto de datos contiene imágenes de tamaño 32x32x3. ¿Qué debemos hacer para entrenar la red neuronal Dense en esas imágenes?**\n",
        "\n",
        "- Use la capa Flatten como primera capa de la red para cambiar la forma de las imágenes.\n",
        "\n",
        "- Cambie la forma de los elementos del conjunto de datos de entrenamiento para que sean vectores de longitud 3072 y use una red de una sola capa Dense.\n",
        "\n",
        "- Cualquiera de las soluciones anteriores funcionará. ✅\n",
        "Correcto, ambas soluciones son válidas.\n",
        "\n",
        "\n",
        "3. **Queremos supervisar la precisión del modelo en el conjunto de datos de validación durante el entrenamiento. ¿Qué se debe hacer?**\n",
        "\n",
        "- Especificar metrics=['acc'] en una llamada a model.compile.\n",
        "\n",
        "- Especificar metrics=['acc'] en una llamada a model.fit.\n",
        "\n",
        "- Proporcionar un conjunto de datos de validación mediante el parámetro validation_data en model.fit.\n",
        "\n",
        "- Opciones (a) y (c). ✅\n",
        "Correcto, debe asegurarse de que se especifica la métrica y de que se proporciona el conjunto de datos de validación.\n",
        "Las métricas se especifican durante la fase de compilación del modelo.\n",
        "\n",
        "- Opciones (b) y (c).\n"
      ]
    }
  ],
  "metadata": {
    "kernel_info": {
      "name": "conda-env-py38_default-py"
    },
    "kernelspec": {
      "display_name": "py38_default",
      "language": "python",
      "name": "conda-env-py38_default-py"
    },
    "language_info": {
      "codemirror_mode": {
        "name": "ipython",
        "version": 3
      },
      "file_extension": ".py",
      "mimetype": "text/x-python",
      "name": "python",
      "nbconvert_exporter": "python",
      "pygments_lexer": "ipython3",
      "version": "3.8.13"
    },
    "nteract": {
      "version": "nteract-front-end@1.0.0"
    },
    "orig_nbformat": 4
  },
  "nbformat": 4,
  "nbformat_minor": 2
}
