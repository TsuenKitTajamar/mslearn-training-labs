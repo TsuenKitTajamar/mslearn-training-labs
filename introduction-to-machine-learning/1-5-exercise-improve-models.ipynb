{
  "cells": [
    {
      "cell_type": "markdown",
      "metadata": {},
      "source": [
        "# Exercise: Datasets in Python\n",
        "\n",
        "In the previous exercise, we loaded some data and fit a model to it. Several aspects of this were simplified, particularly that the data was hard-coded into our python script, and we didn't spend any time really looking at the data itself.\n",
        "\n",
        "Here, we load data from a file, filter it, and graph it. Doing so is a very important first step in order to build proper models or to understand their limitations.\n",
        "\n",
        "As before, there's no need to edit any code in this unit's examples. Try to read it, understand it, then press the **Run** button to run it. As always, it's vitally important that these code blocks are run in the correct order, and nothing is missed.\n",
        "\n",
        "## Load data with Pandas\n",
        "\n",
        "There are various libraries that help you work with data. In Python, one of the most common libraries is *Pandas*. We used pandas briefly in the previous exercise. Pandas can open data saved as text files and store it in an organized table called a `DataFrame`.\n",
        "\n",
        "Let's open some text data that's stored on disk. Our data is saved in a file called `doggy-boot-harness.csv`.\n"
      ]
    },
    {
      "cell_type": "code",
      "execution_count": null,
      "metadata": {},
      "outputs": [
        {
          "data": {
            "text/plain": [
              "1"
            ]
          },
          "execution_count": 8,
          "metadata": {},
          "output_type": "execute_result"
        }
      ],
      "source": [
        "!wget https://raw.githubusercontent.com/MicrosoftDocs/mslearn-introduction-to-machine-learning/main/graphing.py\n",
        "!wget https://raw.githubusercontent.com/MicrosoftDocs/mslearn-introduction-to-machine-learning/main/Data/doggy-boot-harness.csv"
      ]
    },
    {
      "cell_type": "code",
      "execution_count": null,
      "metadata": {},
      "outputs": [
        {
          "name": "stderr",
          "output_type": "stream",
          "text": [
            "\"wget\" no se reconoce como un comando interno o externo,\n",
            "programa o archivo por lotes ejecutable.\n",
            "\"wget\" no se reconoce como un comando interno o externo,\n",
            "programa o archivo por lotes ejecutable.\n"
          ]
        },
        {
          "data": {
            "text/html": [
              "<div>\n",
              "<style scoped>\n",
              "    .dataframe tbody tr th:only-of-type {\n",
              "        vertical-align: middle;\n",
              "    }\n",
              "\n",
              "    .dataframe tbody tr th {\n",
              "        vertical-align: top;\n",
              "    }\n",
              "\n",
              "    .dataframe thead th {\n",
              "        text-align: right;\n",
              "    }\n",
              "</style>\n",
              "<table border=\"1\" class=\"dataframe\">\n",
              "  <thead>\n",
              "    <tr style=\"text-align: right;\">\n",
              "      <th></th>\n",
              "      <th>boot_size</th>\n",
              "      <th>harness_size</th>\n",
              "      <th>sex</th>\n",
              "      <th>age_years</th>\n",
              "    </tr>\n",
              "  </thead>\n",
              "  <tbody>\n",
              "    <tr>\n",
              "      <th>0</th>\n",
              "      <td>39</td>\n",
              "      <td>58</td>\n",
              "      <td>male</td>\n",
              "      <td>12.0</td>\n",
              "    </tr>\n",
              "    <tr>\n",
              "      <th>1</th>\n",
              "      <td>38</td>\n",
              "      <td>58</td>\n",
              "      <td>male</td>\n",
              "      <td>9.6</td>\n",
              "    </tr>\n",
              "    <tr>\n",
              "      <th>2</th>\n",
              "      <td>37</td>\n",
              "      <td>52</td>\n",
              "      <td>female</td>\n",
              "      <td>8.6</td>\n",
              "    </tr>\n",
              "    <tr>\n",
              "      <th>3</th>\n",
              "      <td>39</td>\n",
              "      <td>58</td>\n",
              "      <td>male</td>\n",
              "      <td>10.2</td>\n",
              "    </tr>\n",
              "    <tr>\n",
              "      <th>4</th>\n",
              "      <td>38</td>\n",
              "      <td>57</td>\n",
              "      <td>male</td>\n",
              "      <td>7.8</td>\n",
              "    </tr>\n",
              "  </tbody>\n",
              "</table>\n",
              "</div>"
            ],
            "text/plain": [
              "   boot_size  harness_size     sex  age_years\n",
              "0         39            58    male       12.0\n",
              "1         38            58    male        9.6\n",
              "2         37            52  female        8.6\n",
              "3         39            58    male       10.2\n",
              "4         38            57    male        7.8"
            ]
          },
          "execution_count": 11,
          "metadata": {},
          "output_type": "execute_result"
        }
      ],
      "source": [
        "import pandas, requests\n",
        "\n",
        "# URL of the files\n",
        "csv_url = \"https://raw.githubusercontent.com/MicrosoftDocs/mslearn-introduction-to-machine-learning/main/Data/doggy-boot-harness.csv\"\n",
        "py_url = \"https://raw.githubusercontent.com/MicrosoftDocs/mslearn-introduction-to-machine-learning/main/graphing.py\"\n",
        "\n",
        "# Download CSV file\n",
        "csv_response = requests.get(csv_url)\n",
        "with open('doggy-boot-harness.csv', 'wb') as f:\n",
        "    f.write(csv_response.content)\n",
        "\n",
        "# Download graphing.py file\n",
        "py_response = requests.get(py_url)\n",
        "with open('graphing.py', 'wb') as f:\n",
        "    f.write(py_response.content)\n",
        "\n",
        "# Read the text file containing data using pandas\n",
        "dataset = pandas.read_csv('doggy-boot-harness.csv')\n",
        "\n",
        "# Print the data\n",
        "# Because there are a lot of data, use head() to only print the first few rows\n",
        "dataset.head()"
      ]
    },
    {
      "cell_type": "markdown",
      "metadata": {},
      "source": [
        "As you can see, this dataset contains information about dogs, including their doggy boot size, harness size, sex, and age in years.\n",
        "\n",
        "Data is stored as columns and rows, similar to a table you might see in Excel.\n",
        "\n",
        "## Filter data by Columns\n",
        "\n",
        "Data is easy to filter by columns. We can either type this directly, like `dataset.my_column_name`, or like so: `dataset[\"my_column_name\"]`.\n",
        "\n",
        "We can use this to either extract data, or to delete data.\n",
        "\n",
        "Let's take a look at the harness sizes, and delete the `sex` and `age_years` columns. "
      ]
    },
    {
      "cell_type": "code",
      "execution_count": null,
      "metadata": {},
      "outputs": [],
      "source": [
        "\n",
        "# Look at the harness sizes\n",
        "print(\"Harness sizes\")\n",
        "print(dataset.harness_size)\n",
        "\n",
        "# Remove the sex and age-in-years columns.\n",
        "del dataset[\"sex\"]\n",
        "del dataset[\"age_years\"]\n",
        "\n",
        "# Print the column names\n",
        "print(\"\\nAvailable columns after deleting sex and age information:\")\n",
        "print(dataset.columns.values)\n"
      ]
    },
    {
      "cell_type": "markdown",
      "metadata": {},
      "source": [
        "\n",
        "## Filter data by Rows\n",
        "\n",
        "We can get data from the top of the table by using the `head()` function, or from the bottom of the table by using the `tail()` function. \n",
        "\n",
        "Both functions make a shallow copy of a section of our dataframe. Here, we're sending these copies to the `print()` function. We can also use the head and tail views for other purposes, such as for use in analyses or graphs."
      ]
    },
    {
      "cell_type": "code",
      "execution_count": null,
      "metadata": {},
      "outputs": [],
      "source": [
        "# Print the data at the top of the table\n",
        "print(\"TOP OF TABLE\")\n",
        "print(dataset.head())\n",
        "\n",
        "# print the data at the bottom of the table\n",
        "print(\"\\nBOTTOM OF TABLE\")\n",
        "print(dataset.tail())"
      ]
    },
    {
      "cell_type": "markdown",
      "metadata": {},
      "source": [
        "We can also filter logically. For example, we can look at data for dogs who have a harness smaller than a size 55.\n",
        "\n",
        "This works by calculating a `True` or `False` value for each row, then keeping only those rows where the value is `True`."
      ]
    },
    {
      "cell_type": "code",
      "execution_count": null,
      "metadata": {},
      "outputs": [],
      "source": [
        "# Print how many rows of data we have\n",
        "print(f\"We have {len(dataset)} rows of data\")\n",
        "\n",
        "# Determine whether each avalanche dog's harness size is < 55\n",
        "# This creates a True or False value for each row where True means \n",
        "# they are smaller than 55\n",
        "is_small = dataset.harness_size < 55\n",
        "print(\"\\nWhether the dog's harness was smaller than size 55:\")\n",
        "print(is_small)\n",
        "\n",
        "# Now apply this 'mask' to our data to keep the smaller dogs\n",
        "data_from_small_dogs = dataset[is_small]\n",
        "print(\"\\nData for dogs with harness smaller than size 55:\")\n",
        "print(data_from_small_dogs)\n",
        "\n",
        "# Print the number of small dogs\n",
        "print(f\"\\nNumber of dogs with harness size less than 55: {len(data_from_small_dogs)}\")"
      ]
    },
    {
      "cell_type": "markdown",
      "metadata": {},
      "source": [
        "This looks like a lot of code, but we can compress the important parts into a single line.\n",
        "\n",
        "Let's do something similar: restrict our data to only those with boot sizes smaller than 40. "
      ]
    },
    {
      "cell_type": "code",
      "execution_count": null,
      "metadata": {},
      "outputs": [],
      "source": [
        "# Make a copy of the dataset that only contains dogs with \n",
        "# a boot size below size 40\n",
        "# The call to copy() is optional but can help avoid unexpected\n",
        "# behaviour in more complex scenarios\n",
        "data_smaller_paws = dataset[dataset.boot_size < 40].copy()\n",
        "\n",
        "\n",
        "# Print information about this\n",
        "print(f\"We now have {len(data_smaller_paws)} rows in our dataset. The last few rows are:\")\n",
        "data_smaller_paws.tail()"
      ]
    },
    {
      "cell_type": "markdown",
      "metadata": {},
      "source": [
        "## Graph Data\n",
        "\n",
        "Graphing your data is often the easiest way to understand it. \n",
        "\n",
        "Lets make a simple graph of _harness size_ versus _boot size_ for our avalanche dogs with smaller feet. "
      ]
    },
    {
      "cell_type": "code",
      "execution_count": null,
      "metadata": {},
      "outputs": [],
      "source": [
        "# Load and prepare matplotlib to use for plotting graphs\n",
        "import matplotlib.pyplot as plt\n",
        "\n",
        "\n",
        "# Show a graph of harness size by boot size:\n",
        "plt.scatter(data_smaller_paws[\"harness_size\"], data_smaller_paws[\"boot_size\"])\n",
        "\n",
        "# add labels\n",
        "plt.xlabel(\"harness_size\")\n",
        "plt.ylabel(\"boot_size\")"
      ]
    },
    {
      "cell_type": "markdown",
      "metadata": {},
      "source": [
        "## Create New Columns\n",
        "\n",
        "The preceding graph shows the relationship we want to investigate for our store, but some customers might want harness-size lists in inches, not centimeters. How can we view these harness sizes in imperial units?\n",
        "\n",
        "To do this, we need to create a new column called `harness_size_imperial` and put that on the X axis instead.\n",
        "\n",
        "Creating new columns uses very similar syntax to what we've seen before."
      ]
    },
    {
      "cell_type": "code",
      "execution_count": null,
      "metadata": {},
      "outputs": [],
      "source": [
        "# Convert harness sizes from metric to imperial units \n",
        "# and save the result to a new column\n",
        "data_smaller_paws['harness_size_imperial'] = data_smaller_paws.harness_size / 2.54\n",
        "\n",
        "# Show a graph of harness size in imperial units\n",
        "plt.scatter(data_smaller_paws[\"harness_size_imperial\"], data_smaller_paws[\"boot_size\"])\n",
        "plt.xlabel(\"harness_size_imperial\")\n",
        "plt.ylabel(\"boot_size\")"
      ]
    },
    {
      "cell_type": "markdown",
      "metadata": {},
      "source": [
        "We've now graphed our new column of data (`harness_size_imperial`) against boot size for dogs with small paws.\n",
        "\n",
        "## Summary\n",
        "\n",
        "We've introduced working with data in Python, including:\n",
        "\n",
        "* Opening data from a file into a `DataFrame` (table).\n",
        "* Inspecting the top and bottom of the dataframe.\n",
        "* Adding and removing columns of data.\n",
        "* Removing rows of data based on certain criteria.\n",
        "* Graphing data to understand trends.\n",
        "\n",
        "Learning to work with dataframes can feel tedious or dry, but keep going, because these basic skills are critical to unlocking the exciting machine-learning techniques that we cover in later modules."
      ]
    }
  ],
  "metadata": {
    "kernel_info": {
      "name": "conda-env-azureml_py38-py"
    },
    "kernelspec": {
      "display_name": "Python 3",
      "language": "python",
      "name": "python3"
    },
    "language_info": {
      "codemirror_mode": {
        "name": "ipython",
        "version": 3
      },
      "file_extension": ".py",
      "mimetype": "text/x-python",
      "name": "python",
      "nbconvert_exporter": "python",
      "pygments_lexer": "ipython3",
      "version": "3.12.6"
    },
    "nteract": {
      "version": "nteract-front-end@1.0.0"
    }
  },
  "nbformat": 4,
  "nbformat_minor": 2
}
