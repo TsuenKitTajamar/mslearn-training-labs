{
 "cells": [
  {
   "cell_type": "code",
   "execution_count": 16,
   "metadata": {},
   "outputs": [],
   "source": [
    "import os\n",
    "os.environ[\"CUDA_VISIBLE_DEVICES\"] = \"-1\"\n",
    "\n",
    "import numpy as np\n",
    "import tensorflow as tf\n",
    "import requests\n",
    "from PIL import Image\n",
    "import matplotlib.pyplot as plt"
   ]
  },
  {
   "cell_type": "markdown",
   "metadata": {},
   "source": [
    "Assuming you achieved pretty good accuracy during the training and testing phases, you can now use the trained model for inference. In other words, the model should predict the classification of images that the network has never seen before.\n",
    "\n",
    "But before you move on, load the code you've already seen in previous notebooks:"
   ]
  },
  {
   "cell_type": "code",
   "execution_count": 17,
   "metadata": {},
   "outputs": [],
   "source": [
    "!wget -Nq https://raw.githubusercontent.com/MicrosoftDocs/tensorflow-learning-path/main/intro-keras/kintro.py\n",
    "from kintro import *"
   ]
  },
  {
   "cell_type": "markdown",
   "metadata": {},
   "source": [
    "Remember that in the previous notebook, after successfully training our network, you saved the model. Let's load it back into memory."
   ]
  },
  {
   "cell_type": "code",
   "execution_count": 18,
   "metadata": {},
   "outputs": [
    {
     "name": "stderr",
     "output_type": "stream",
     "text": [
      "2025-03-17 10:54:54.967467: I tensorflow/stream_executor/platform/default/dso_loader.cc:44] Successfully opened dynamic library libcuda.so.1\n",
      "2025-03-17 10:54:55.314466: E tensorflow/stream_executor/cuda/cuda_driver.cc:313] failed call to cuInit: CUDA_ERROR_NO_DEVICE: no CUDA-capable device is detected\n",
      "2025-03-17 10:54:55.314929: I tensorflow/stream_executor/cuda/cuda_diagnostics.cc:156] kernel driver does not appear to be running on this host (vm1f7213017f): /proc/driver/nvidia/version does not exist\n",
      "2025-03-17 10:54:55.320864: I tensorflow/core/platform/cpu_feature_guard.cc:143] Your CPU supports instructions that this TensorFlow binary was not compiled to use: AVX2 FMA\n",
      "2025-03-17 10:54:55.359181: I tensorflow/core/platform/profile_utils/cpu_utils.cc:102] CPU Frequency: 2294680000 Hz\n",
      "2025-03-17 10:54:55.360182: I tensorflow/compiler/xla/service/service.cc:168] XLA service 0x7fe0140069d0 initialized for platform Host (this does not guarantee that XLA will be used). Devices:\n",
      "2025-03-17 10:54:55.360204: I tensorflow/compiler/xla/service/service.cc:176]   StreamExecutor device (0): Host, Default Version\n"
     ]
    }
   ],
   "source": [
    "model = tf.keras.models.load_model('outputs/model')"
   ]
  },
  {
   "cell_type": "markdown",
   "metadata": {},
   "source": [
    "Making a prediction is easy. Simply call the model's `predict` method and pass one or more images. Let's start by getting the image you'll use for prediction, and display it:"
   ]
  },
  {
   "cell_type": "code",
   "execution_count": 19,
   "metadata": {},
   "outputs": [
    {
     "data": {
      "image/png": "[encoded data removed]",
      "text/plain": [
       "<Figure size 640x480 with 1 Axes>"
      ]
     },
     "metadata": {},
     "output_type": "display_data"
    }
   ],
   "source": [
    "url = 'https://raw.githubusercontent.com/MicrosoftDocs/tensorflow-learning-path/main/intro-keras/predict-image.png'\n",
    "\n",
    "with Image.open(requests.get(url, stream=True).raw) as image:\n",
    "  X = np.asarray(image, dtype=np.float32).reshape((-1, 28, 28)) / 255.0\n",
    "\n",
    "plt.figure()\n",
    "plt.axis('off')\n",
    "plt.imshow(X.squeeze(), cmap='gray')\n",
    "plt.show()"
   ]
  },
  {
   "cell_type": "markdown",
   "metadata": {},
   "source": [
    "As you can see, you have an image of an ankle boot. In the code below, load the image, call `predict` to get its class index, and map that index to the class name.  "
   ]
  },
  {
   "cell_type": "code",
   "execution_count": 20,
   "metadata": {},
   "outputs": [
    {
     "name": "stdout",
     "output_type": "stream",
     "text": [
      "Predicted class: Ankle Boot\n"
     ]
    }
   ],
   "source": [
    "predicted_vector = model.predict(X)\n",
    "predicted_index = np.argmax(predicted_vector)\n",
    "predicted_name = labels_map[predicted_index]\n",
    "\n",
    "print(f'Predicted class: {predicted_name}')"
   ]
  },
  {
   "cell_type": "markdown",
   "metadata": {},
   "source": [
    "Note that you can also get probabilities of the input image being of a certain class, in which case you need to normalize the output of your network using `softmax` to get probabilities. Here are the predictions for your image: "
   ]
  },
  {
   "cell_type": "code",
   "execution_count": 21,
   "metadata": {},
   "outputs": [
    {
     "name": "stdout",
     "output_type": "stream",
     "text": [
      "T-Shirt -> 0.000\n",
      "Trouser -> 0.000\n",
      "Pullover -> 0.000\n",
      "Dress -> 0.000\n",
      "Coat -> 0.000\n",
      "Sandal -> 0.122\n",
      "Shirt -> 0.000\n",
      "Sneaker -> 0.098\n",
      "Bag -> 0.018\n",
      "Ankle Boot -> 0.762\n"
     ]
    }
   ],
   "source": [
    "probs = tf.nn.softmax(predicted_vector.reshape((-1,)))\n",
    "for i,p in enumerate(probs):\n",
    "    print(f'{labels_map[i]} -> {p:.3f}')"
   ]
  },
  {
   "cell_type": "markdown",
   "metadata": {},
   "source": [
    "If you need to compute probabilities often, you can specify `activation='softmax'` for the final `Dense` layer of your network. In this case the network would give you probabilities as output, and you need to omit `use_logits=True` in the `SparseCategoricalCrossentropy` loss function. "
   ]
  }
 ],
 "metadata": {
  "kernel_info": {
   "name": "conda-env-azureml_py38-py"
  },
  "kernelspec": {
   "display_name": "base",
   "language": "python",
   "name": "python3"
  },
  "language_info": {
   "codemirror_mode": {
    "name": "ipython",
    "version": 3
   },
   "file_extension": ".py",
   "mimetype": "text/x-python",
   "name": "python",
   "nbconvert_exporter": "python",
   "pygments_lexer": "ipython3",
   "version": "3.12.4"
  },
  "nteract": {
   "version": "nteract-front-end@1.0.0"
  }
 },
 "nbformat": 4,
 "nbformat_minor": 4
}
