{
 "cells": [
  {
   "cell_type": "markdown",
   "metadata": {},
   "source": [
    "### ¿Por qué encapsulamos nuestros datos en un elemento Dataset? \n",
    "\n",
    "❌ No era necesario. Para una pequeña cantidad de datos como en este ejemplo, podríamos simplemente usar matrices de NumPy.\n",
    "\n",
    "❌ Es una buena idea obtener información al respecto, especialmente si vamos a trabajar con datos de mayor tamaño en el futuro.\n",
    "\n",
    "❌ Porque devuelve nuestros datos en lotes de 64 imágenes cuando se recorren en iteración, lo que usaremos más adelante al entrenar.\n",
    "\n",
    "✅ Todas las anteriores."
   ]
  },
  {
   "cell_type": "markdown",
   "metadata": {},
   "source": [
    "### ¿Cuál es la salida de la red neuronal usada en este ejemplo? \n",
    "\n",
    "❌ La cadena Ankle boot (botín).\n",
    "\n",
    "❌ El número 9, que corresponde a un botín.\n",
    "\n",
    "✅ Vector de tamaño 10, donde el número de punto flotante más grande está en el índice 9, que se corresponde con un botín."
   ]
  },
  {
   "cell_type": "markdown",
   "metadata": {},
   "source": [
    "### ¿Cuál es el objetivo de entrenar un modelo? \n",
    "\n",
    "❌ El objetivo es que sea más rápido.\n",
    "\n",
    "✅ El objetivo es encontrar los parámetros \"W\" y \"b\" que darán lugar a la mejor predicción.\n",
    "\n",
    "❌ El objetivo es encontrar el mejor optimizador y la función de pérdida para nuestros propósitos.\n",
    "\n",
    "❌ El objetivo es clasificar cada uno de los ejemplos de entrada."
   ]
  },
  {
   "cell_type": "markdown",
   "metadata": {},
   "source": [
    "### ¿Qué tipo de imágenes podemos usar como entrada en la fase de predicción? \n",
    "\n",
    "❌ Ninguna imagen.\n",
    "\n",
    "❌ Solo imágenes en los datos de entrenamiento.\n",
    "\n",
    "❌ Solo imágenes en los datos de entrenamiento o datos de prueba.\n",
    "\n",
    "✅ Cualquier imagen, siempre y cuando se encuentra en el formato que espera el modelo.\n",
    "Cuanto más similares sean las imágenes de predicción a las imágenes de los datos de entrenamiento, mejor serán las predicciones."
   ]
  }
 ],
 "metadata": {
  "language_info": {
   "name": "python"
  }
 },
 "nbformat": 4,
 "nbformat_minor": 2
}
