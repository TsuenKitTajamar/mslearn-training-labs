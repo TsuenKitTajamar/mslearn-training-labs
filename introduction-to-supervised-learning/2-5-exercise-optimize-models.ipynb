{
  "cells": [
    {
      "cell_type": "markdown",
      "source": [
        "# Exercise: Supervised learning by using different cost functions\n",
        "\n",
        "In this exercise, we'll take a deeper look at how cost functions can change:\n",
        "\n",
        "* How well models appear to have fit data\n",
        "* The kinds of relationships a model represents\n",
        "\n",
        "## Loading the data\n",
        "\n",
        "Let's start by loading the data. To make this exercise simpler, we'll use only a few datapoints this time."
      ],
      "metadata": {},
      "id": "edb53c60-7e09-4137-b73c-745dfd25182e"
    },
    {
      "cell_type": "code",
      "source": [
        "import pandas\n",
        "!wget https://raw.githubusercontent.com/MicrosoftDocs/mslearn-introduction-to-machine-learning/main/microsoft_custom_linear_regressor.py\n",
        "!wget https://raw.githubusercontent.com/MicrosoftDocs/mslearn-introduction-to-machine-learning/main/Data/seattleWeather_1948-2017.csv\n",
        "from datetime import datetime\n",
        "\n",
        "# Load a file that contains our weather data\n",
        "dataset = pandas.read_csv('seattleWeather_1948-2017.csv', parse_dates=['date'])\n",
        "\n",
        "# Convert the dates into numbers so we can use them in our models\n",
        "# We make a year column that can contain fractions. For example,\n",
        "# 1948.5 is halfway through the year 1948\n",
        "dataset[\"year\"] = [(d.year + d.timetuple().tm_yday / 365.25) for d in dataset.date]\n",
        "\n",
        "\n",
        "# For the sake of this exercise, let's look at February 1 for the following years:\n",
        "desired_dates = [\n",
        "    datetime(1950,2,1),\n",
        "    datetime(1960,2,1),\n",
        "    datetime(1970,2,1),\n",
        "    datetime(1980,2,1),\n",
        "    datetime(1990,2,1),\n",
        "    datetime(2000,2,1),\n",
        "    datetime(2010,2,1),\n",
        "    datetime(2017,2,1),\n",
        "]\n",
        "\n",
        "dataset = dataset[dataset.date.isin(desired_dates)].copy()\n",
        "\n",
        "# Print the dataset\n",
        "dataset\n"
      ],
      "outputs": [
        {
          "output_type": "stream",
          "name": "stdout",
          "text": "--2025-03-14 08:10:35--  https://raw.githubusercontent.com/MicrosoftDocs/mslearn-introduction-to-machine-learning/main/microsoft_custom_linear_regressor.py\nResolving raw.githubusercontent.com (raw.githubusercontent.com)... 185.199.111.133, 185.199.110.133, 185.199.109.133, ...\nConnecting to raw.githubusercontent.com (raw.githubusercontent.com)|185.199.111.133|:443... connected.\nHTTP request sent, awaiting response... 200 OK\nLength: 2167 (2.1K) [text/plain]\nSaving to: ‘microsoft_custom_linear_regressor.py’\n\nmicrosoft_custom_li 100%[===================>]   2.12K  --.-KB/s    in 0s      \n\n2025-03-14 08:10:35 (37.1 MB/s) - ‘microsoft_custom_linear_regressor.py’ saved [2167/2167]\n\n--2025-03-14 08:10:37--  https://raw.githubusercontent.com/MicrosoftDocs/mslearn-introduction-to-machine-learning/main/Data/seattleWeather_1948-2017.csv\nResolving raw.githubusercontent.com (raw.githubusercontent.com)... 185.199.111.133, 185.199.110.133, 185.199.109.133, ...\nConnecting to raw.githubusercontent.com (raw.githubusercontent.com)|185.199.111.133|:443... connected.\nHTTP request sent, awaiting response... 200 OK\nLength: 762017 (744K) [text/plain]\nSaving to: ‘seattleWeather_1948-2017.csv.1’\n\nseattleWeather_1948 100%[===================>] 744.16K  --.-KB/s    in 0.02s   \n\n2025-03-14 08:10:37 (43.5 MB/s) - ‘seattleWeather_1948-2017.csv.1’ saved [762017/762017]\n\n"
        },
        {
          "output_type": "execute_result",
          "execution_count": 1,
          "data": {
            "text/plain": "            date  amount_of_precipitation  max_temperature  min_temperature  \\\n762   1950-02-01                     0.00               27                1   \n4414  1960-02-01                     0.15               52               44   \n8067  1970-02-01                     0.00               50               42   \n11719 1980-02-01                     0.37               54               36   \n15372 1990-02-01                     0.08               45               37   \n19024 2000-02-01                     1.34               49               41   \n22677 2010-02-01                     0.08               49               40   \n25234 2017-02-01                     0.00               43               29   \n\n        rain         year  \n762    False  1950.087611  \n4414    True  1960.087611  \n8067   False  1970.087611  \n11719   True  1980.087611  \n15372   True  1990.087611  \n19024   True  2000.087611  \n22677   True  2010.087611  \n25234  False  2017.087611  ",
            "text/html": "<div>\n<style scoped>\n    .dataframe tbody tr th:only-of-type {\n        vertical-align: middle;\n    }\n\n    .dataframe tbody tr th {\n        vertical-align: top;\n    }\n\n    .dataframe thead th {\n        text-align: right;\n    }\n</style>\n<table border=\"1\" class=\"dataframe\">\n  <thead>\n    <tr style=\"text-align: right;\">\n      <th></th>\n      <th>date</th>\n      <th>amount_of_precipitation</th>\n      <th>max_temperature</th>\n      <th>min_temperature</th>\n      <th>rain</th>\n      <th>year</th>\n    </tr>\n  </thead>\n  <tbody>\n    <tr>\n      <th>762</th>\n      <td>1950-02-01</td>\n      <td>0.00</td>\n      <td>27</td>\n      <td>1</td>\n      <td>False</td>\n      <td>1950.087611</td>\n    </tr>\n    <tr>\n      <th>4414</th>\n      <td>1960-02-01</td>\n      <td>0.15</td>\n      <td>52</td>\n      <td>44</td>\n      <td>True</td>\n      <td>1960.087611</td>\n    </tr>\n    <tr>\n      <th>8067</th>\n      <td>1970-02-01</td>\n      <td>0.00</td>\n      <td>50</td>\n      <td>42</td>\n      <td>False</td>\n      <td>1970.087611</td>\n    </tr>\n    <tr>\n      <th>11719</th>\n      <td>1980-02-01</td>\n      <td>0.37</td>\n      <td>54</td>\n      <td>36</td>\n      <td>True</td>\n      <td>1980.087611</td>\n    </tr>\n    <tr>\n      <th>15372</th>\n      <td>1990-02-01</td>\n      <td>0.08</td>\n      <td>45</td>\n      <td>37</td>\n      <td>True</td>\n      <td>1990.087611</td>\n    </tr>\n    <tr>\n      <th>19024</th>\n      <td>2000-02-01</td>\n      <td>1.34</td>\n      <td>49</td>\n      <td>41</td>\n      <td>True</td>\n      <td>2000.087611</td>\n    </tr>\n    <tr>\n      <th>22677</th>\n      <td>2010-02-01</td>\n      <td>0.08</td>\n      <td>49</td>\n      <td>40</td>\n      <td>True</td>\n      <td>2010.087611</td>\n    </tr>\n    <tr>\n      <th>25234</th>\n      <td>2017-02-01</td>\n      <td>0.00</td>\n      <td>43</td>\n      <td>29</td>\n      <td>False</td>\n      <td>2017.087611</td>\n    </tr>\n  </tbody>\n</table>\n</div>"
          },
          "metadata": {}
        }
      ],
      "execution_count": 1,
      "metadata": {},
      "id": "12140f5e-d51c-42ab-8ef9-e665d158bb56"
    },
    {
      "cell_type": "markdown",
      "source": [
        "## Comparing two cost functions\n",
        "\n",
        "Let's compare two common cost functions: the _sum of squared differences_ (SSD) and the _sum of absolute differences_ (SAD). They both calculate the difference between each predicted value and the expected value. The distinction is simply: \n",
        "\n",
        "* SSD squares that difference and sums the result.\n",
        "* SAD converts differences into absolute differences and then sums them.\n",
        "\n",
        "To see these cost functions in action, we need to first implement them:"
      ],
      "metadata": {},
      "id": "f917679b-05ff-4f1a-a18f-a72c99f3fc28"
    },
    {
      "cell_type": "code",
      "source": [
        "import numpy\n",
        "\n",
        "def sum_of_square_differences(estimate, actual):\n",
        "    # Note that with NumPy, to square each value we use **\n",
        "    return numpy.sum((estimate - actual)**2)\n",
        "\n",
        "def sum_of_absolute_differences(estimate, actual):\n",
        "    return numpy.sum(numpy.abs(estimate - actual))"
      ],
      "outputs": [],
      "execution_count": 2,
      "metadata": {},
      "id": "5f7b5d0e-5d92-45bd-82bb-aed64a13319c"
    },
    {
      "cell_type": "markdown",
      "source": [
        "They're very similar. How do they behave? Let's test with some fake model estimates.\n",
        "\n",
        "Let's say that the correct answers are `1` and `3`, but the model estimates `2` and `2`:"
      ],
      "metadata": {},
      "id": "925400ab-f01e-47af-86da-badc1163550a"
    },
    {
      "cell_type": "code",
      "source": [
        "actual_label = numpy.array([1, 3])\n",
        "model_estimate = numpy.array([2, 2])\n",
        "\n",
        "print(\"SSD:\", sum_of_square_differences(model_estimate, actual_label))\n",
        "print(\"SAD:\", sum_of_absolute_differences(model_estimate, actual_label))"
      ],
      "outputs": [
        {
          "output_type": "stream",
          "name": "stdout",
          "text": "SSD: 2\nSAD: 2\n"
        }
      ],
      "execution_count": 3,
      "metadata": {},
      "id": "800a97ea-7365-427a-b493-1e1274f1c1e4"
    },
    {
      "cell_type": "markdown",
      "source": [
        "We have an error of `1` for each estimate, and both methods have returned the same error. \n",
        "\n",
        "What happens if we distribute these errors differently? Let's pretend that we estimated the first value perfectly, but were off by `2` for the second value: "
      ],
      "metadata": {},
      "id": "665885db-e302-45ff-aa84-a9a5930c2a4a"
    },
    {
      "cell_type": "code",
      "source": [
        "actual_label = numpy.array([1, 3])\n",
        "model_estimate = numpy.array([1, 1])\n",
        "\n",
        "print(\"SSD:\", sum_of_square_differences(model_estimate, actual_label))\n",
        "print(\"SAD:\", sum_of_absolute_differences(model_estimate, actual_label))"
      ],
      "outputs": [
        {
          "output_type": "stream",
          "name": "stdout",
          "text": "SSD: 4\nSAD: 2\n"
        }
      ],
      "execution_count": 4,
      "metadata": {},
      "id": "baff0098-d8d5-4734-a3f3-dd414703271d"
    },
    {
      "cell_type": "markdown",
      "source": [
        "SAD has calculated the same cost as before, because the average error is still the same (`1 + 1 = 0 + 2`). According to SAD, the first and second set of estimates were equally good. \n",
        "\n",
        "By contrast, SSD has given a higher (worse) cost for the second set of estimates ( $1^2 + 1^2 < 0^2 + 2^2 $ ). When we use SSD, we encourage models to be both accurate and consistent in their accuracy.\n",
        "\n",
        "\n",
        "## Differences in action\n",
        "\n",
        "Let's compare how our two cost functions affect model fitting.\n",
        "\n",
        "First, fit a model by using the SSD cost function:"
      ],
      "metadata": {},
      "id": "dbe21596-2507-4a37-89bf-f0e84b03638b"
    },
    {
      "cell_type": "code",
      "source": [
        "from microsoft_custom_linear_regressor import MicrosoftCustomLinearRegressor\n",
        "import matplotlib.pyplot as plt\n",
        "\n",
        "# Create and fit the model\n",
        "# We use a custom object that we've hidden from this notebook, because\n",
        "# you don't need to understand its details. This fits a linear model\n",
        "# by using a provided cost function\n",
        "\n",
        "# Fit a model by using sum of square differences\n",
        "model = MicrosoftCustomLinearRegressor().fit(X = dataset.year, \n",
        "                                             y = dataset.min_temperature, \n",
        "                                             cost_function = sum_of_square_differences)\n",
        "\n",
        "# Graph the model\n",
        "plt.scatter(dataset[\"year\"], dataset[\"min_temperature\"])\n",
        "plt.plot(dataset[\"year\"], model.predict(dataset[\"year\"]), 'r', label='Fitted line')\n",
        "\n",
        "                                                 \n",
        "# add labels and legend\n",
        "plt.xlabel(\"year\")\n",
        "plt.ylabel(\"min_temperature\")\n",
        "plt.legend()"
      ],
      "outputs": [
        {
          "output_type": "execute_result",
          "execution_count": 5,
          "data": {
            "text/plain": "<matplotlib.legend.Legend at 0x7f1a36be4c40>"
          },
          "metadata": {}
        },
        {
          "output_type": "display_data",
          "data": {
            "text/plain": "<Figure size 640x480 with 1 Axes>",
            "image/png": "[encoded data removed]"
          },
          "metadata": {}
        }
      ],
      "execution_count": 5,
      "metadata": {},
      "id": "14399739-b302-484d-84f5-b21f1f3f8db0"
    },
    {
      "attachments": {},
      "cell_type": "markdown",
      "source": [
        "Our SSD method normally does well, but here it did a poor job. The line is a far distance from the values for many years. Why? Notice that the datapoint at the lower left doesn't seem to follow the trend of the other datapoints. 1950 was a very cold winter in Seattle, and this datapoint is strongly influencing our final model (the red line). What happens if we change the cost function?\n",
        "\n",
        "### Sum of absolute differences\n",
        "\n",
        "Let's repeat what we've just done, but using SAD."
      ],
      "metadata": {},
      "id": "a97ed023-c30c-4195-b73a-a2e9237c6a5e"
    },
    {
      "cell_type": "code",
      "source": [
        "# Fit a model with SAD\n",
        "# Fit a model by using sum of absolute differences\n",
        "model = MicrosoftCustomLinearRegressor().fit(X = dataset.year, \n",
        "                                             y = dataset.min_temperature, \n",
        "                                             cost_function = sum_of_absolute_differences)\n",
        "\n",
        "# Graph the model\n",
        "plt.scatter(dataset[\"year\"], dataset[\"min_temperature\"])\n",
        "plt.plot(dataset[\"year\"], model.predict(dataset[\"year\"]), 'r', label='Fitted line')\n",
        "\n",
        "                                                 \n",
        "# add labels and legend\n",
        "plt.xlabel(\"year\")\n",
        "plt.ylabel(\"min_temperature\")\n",
        "plt.legend()\n"
      ],
      "outputs": [
        {
          "output_type": "stream",
          "name": "stderr",
          "text": "/anaconda/envs/azureml_py38/lib/python3.8/site-packages/scipy/optimize/optimize.py:1166: RuntimeWarning: divide by zero encountered in double_scalars\n  rhok = 1.0 / (np.dot(yk, sk))\n"
        },
        {
          "output_type": "execute_result",
          "execution_count": 6,
          "data": {
            "text/plain": "<matplotlib.legend.Legend at 0x7f1a366a4a30>"
          },
          "metadata": {}
        },
        {
          "output_type": "display_data",
          "data": {
            "text/plain": "<Figure size 640x480 with 1 Axes>",
            "image/png": "[encoded data removed]"
          },
          "metadata": {}
        }
      ],
      "execution_count": 6,
      "metadata": {},
      "id": "3925ac53-d5fb-4b3f-b040-4bcffc313290"
    },
    {
      "cell_type": "markdown",
      "source": [
        "It's clear that this line passes through the majority of points much better than before, at the expense of almost ignoring the measurement taken in 1950. \n",
        "\n",
        "In our farming scenario, we're interested in how average temperatures are changing over time. We don't have much interest in 1950 specifically, so for us, this is a better result. In other situations, of course, we might consider this result worse.\n",
        "\n",
        "\n",
        "## Summary\n",
        "\n",
        "In this exercise, you learned about how changing the cost function that's used during fitting can result in different final results. \n",
        "\n",
        "You also learned how this behavior happens because these cost functions describe the \"best\" way to fit a model; although from a data analyst's point of view, there can be drawbacks no matter which cost function is chosen."
      ],
      "metadata": {},
      "id": "f6b7beeb-f120-4d51-930c-f43ac47fb212"
    }
  ],
  "metadata": {
    "kernel_info": {
      "name": "conda-env-azureml_py38-py"
    },
    "kernelspec": {
      "name": "conda-env-azureml_py38-py",
      "language": "python",
      "display_name": "azureml_py38"
    },
    "language_info": {
      "name": "python",
      "version": "3.8.5",
      "mimetype": "text/x-python",
      "codemirror_mode": {
        "name": "ipython",
        "version": 3
      },
      "pygments_lexer": "ipython3",
      "nbconvert_exporter": "python",
      "file_extension": ".py"
    },
    "nteract": {
      "version": "nteract-front-end@1.0.0"
    }
  },
  "nbformat": 4,
  "nbformat_minor": 5
}